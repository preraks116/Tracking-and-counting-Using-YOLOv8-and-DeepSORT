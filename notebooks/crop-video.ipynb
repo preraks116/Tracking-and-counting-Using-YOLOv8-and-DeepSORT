{
 "cells": [
  {
   "cell_type": "code",
   "execution_count": 43,
   "metadata": {},
   "outputs": [],
   "source": [
    "import cv2\n",
    "import numpy as np\n",
    "from queue import Queue\n",
    "from threading import Thread\n",
    "import time\n",
    "import matplotlib.pyplot as plt"
   ]
  },
  {
   "cell_type": "code",
   "execution_count": 44,
   "metadata": {},
   "outputs": [],
   "source": [
    "INPUT_VIDEO_PATH = \"data/videos/Rec16-1_trimmed.mp4\"\n",
    "OUTPUT_VIDEO_PATH = \"output/videos/Rec16-1_trimmed_output.mp4\""
   ]
  },
  {
   "cell_type": "code",
   "execution_count": 45,
   "metadata": {},
   "outputs": [],
   "source": [
    "START_X = 80  # X-coordinate of the top-left corner of the cropped region\n",
    "START_Y = 50  # Y-coordinate of the top-left corner of the cropped region\n",
    "CROP_WIDTH = 1380  # Width of the cropped region\n",
    "CROP_HEIGHT = 780  # Height of the cropped region"
   ]
  },
  {
   "cell_type": "code",
   "execution_count": 46,
   "metadata": {},
   "outputs": [],
   "source": [
    "def read_frames(cap, frame_queue, max_queue_size):\n",
    "    while True:\n",
    "        if frame_queue.qsize() < max_queue_size:\n",
    "            ret, frame = cap.read()\n",
    "            if not ret:\n",
    "                break\n",
    "            frame_queue.put(frame)\n",
    "        else:\n",
    "            time.sleep(0.1)\n",
    "    frame_queue.put(None)\n"
   ]
  },
  {
   "cell_type": "code",
   "execution_count": 47,
   "metadata": {},
   "outputs": [],
   "source": [
    "def read_frames(cap, frame_queue, max_queue_size):\n",
    "    while True:\n",
    "        if frame_queue.qsize() < max_queue_size:\n",
    "            ret, frame = cap.read()\n",
    "            if not ret:\n",
    "                break\n",
    "            frame_queue.put(frame)\n",
    "        else:\n",
    "            time.sleep(0.1)\n",
    "    frame_queue.put(None)"
   ]
  },
  {
   "cell_type": "code",
   "execution_count": 48,
   "metadata": {},
   "outputs": [],
   "source": [
    "def crop_frames(frame_queue, result_queue):\n",
    "    while True:\n",
    "        frame = frame_queue.get()\n",
    "        if frame is None:\n",
    "            break\n",
    "        \n",
    "        # Get the dimensions of the original frame\n",
    "        height, width = frame.shape[:2]\n",
    "        \n",
    "        # Calculate the coordinates for the top right corner\n",
    "        start_x = START_X\n",
    "        start_y = START_Y\n",
    "        \n",
    "        # Crop the frame\n",
    "        cropped_frame = frame[start_y:start_y+CROP_HEIGHT, start_x:start_x+CROP_WIDTH]\n",
    "        \n",
    "        result_queue.put(cropped_frame)\n",
    "    result_queue.put(None)"
   ]
  },
  {
   "cell_type": "code",
   "execution_count": 49,
   "metadata": {},
   "outputs": [],
   "source": [
    "def write_video(result_queue, out):\n",
    "    while True:\n",
    "        frame = result_queue.get()\n",
    "        if frame is None:\n",
    "            break\n",
    "        out.write(frame)"
   ]
  },
  {
   "cell_type": "code",
   "execution_count": 50,
   "metadata": {},
   "outputs": [],
   "source": [
    "def process_video(input_path, output_path):\n",
    "    cap = cv2.VideoCapture(input_path)\n",
    "    fps = int(cap.get(cv2.CAP_PROP_FPS))\n",
    "\n",
    "    fourcc = cv2.VideoWriter_fourcc(*'mp4v')\n",
    "    out = cv2.VideoWriter(output_path, fourcc, fps, (CROP_WIDTH, CROP_HEIGHT))\n",
    "\n",
    "    frame_queue = Queue(maxsize=30)\n",
    "    result_queue = Queue(maxsize=30)\n",
    "    \n",
    "    read_thread = Thread(target=read_frames, args=(cap, frame_queue, 30))\n",
    "    crop_thread = Thread(target=crop_frames, args=(frame_queue, result_queue))\n",
    "    write_thread = Thread(target=write_video, args=(result_queue, out))\n",
    "    \n",
    "    read_thread.start()\n",
    "    crop_thread.start()\n",
    "    write_thread.start()\n",
    "\n",
    "    read_thread.join()\n",
    "    crop_thread.join()\n",
    "    write_thread.join()\n",
    "\n",
    "    cap.release()\n",
    "    out.release()\n",
    "    cv2.destroyAllWindows()"
   ]
  },
  {
   "cell_type": "code",
   "execution_count": 51,
   "metadata": {},
   "outputs": [],
   "source": [
    "def crop_and_show_first_frame(video_path, crop_width=320, crop_height=240):\n",
    "    \"\"\"\n",
    "    Read the first frame of a video, crop the top right corner, and display it.\n",
    "    \n",
    "    Args:\n",
    "    video_path (str): Path to the input video file\n",
    "    crop_width (int): Width of the cropped region (default: 320)\n",
    "    crop_height (int): Height of the cropped region (default: 240)\n",
    "    \"\"\"\n",
    "    # Open the video file\n",
    "    cap = cv2.VideoCapture(video_path)\n",
    "    \n",
    "    # Read the first frame\n",
    "    ret, frame = cap.read()\n",
    "    \n",
    "    if not ret:\n",
    "        print(\"Failed to read the video file.\")\n",
    "        return\n",
    "    \n",
    "    # Get the dimensions of the original frame\n",
    "    height, width = frame.shape[:2]\n",
    "    \n",
    "    # Calculate the coordinates for the top right corner\n",
    "    start_x = 80\n",
    "    start_y = 50\n",
    "    \n",
    "    # Crop the frame\n",
    "    cropped_frame = frame[start_y:start_y+crop_height, start_x:start_x+crop_width]\n",
    "\n",
    "    \n",
    "    # Convert BGR to RGB (OpenCV uses BGR by default)\n",
    "    rgb_frame = cv2.cvtColor(cropped_frame, cv2.COLOR_BGR2RGB)\n",
    "    \n",
    "    # Display the cropped frame\n",
    "    plt.imshow(rgb_frame)\n",
    "    plt.title(\"Cropped First Frame\")\n",
    "    plt.axis('off')\n",
    "    plt.show()\n",
    "    \n",
    "    # Release the video capture object\n",
    "    cap.release()\n",
    "\n",
    "# crop_and_show_first_frame(INPUT_VIDEO_PATH, crop_width=1380, crop_height=780)"
   ]
  },
  {
   "cell_type": "code",
   "execution_count": 52,
   "metadata": {},
   "outputs": [],
   "source": [
    "process_video(INPUT_VIDEO_PATH, OUTPUT_VIDEO_PATH)"
   ]
  }
 ],
 "metadata": {
  "kernelspec": {
   "display_name": "work",
   "language": "python",
   "name": "python3"
  },
  "language_info": {
   "codemirror_mode": {
    "name": "ipython",
    "version": 3
   },
   "file_extension": ".py",
   "mimetype": "text/x-python",
   "name": "python",
   "nbconvert_exporter": "python",
   "pygments_lexer": "ipython3",
   "version": "3.12.4"
  }
 },
 "nbformat": 4,
 "nbformat_minor": 2
}
